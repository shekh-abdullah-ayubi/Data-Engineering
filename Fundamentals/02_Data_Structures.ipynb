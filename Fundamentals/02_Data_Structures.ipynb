{
 "cells": [
  {
   "cell_type": "markdown",
   "id": "8cabe0a5",
   "metadata": {},
   "source": [
    "## Data Structures\n",
    "Data structures are used to organize and store the data. Algorithms supports operations on data.\n",
    "\n",
    "Python has 4 main data structures: `Lists`, `Dictionaries`, `Tuples` and `Sets`."
   ]
  },
  {
   "cell_type": "markdown",
   "id": "df7bc6af",
   "metadata": {},
   "source": [
    "__List__\\\n",
    "A list is a set of ordered values. Each value in a list is called an `element` or `item` and can be identified by an index. A list supports different data types, we can have a list of integers, strings, and floats.\n",
    "\n",
    "What we will see with Python lists:\n",
    "\n",
    "* Creating a list\n",
    "* Accessing elements in a list\n",
    "* Slicing a list\n",
    "* Changing elements in a list\n",
    "* Traversing a list\n",
    "* Operations on list\n",
    "* Nested lists\n",
    "* List methods\n",
    "* List and strings\n",
    "\n",
    "__Creating a List__\\\n",
    "A python list can be created by enclosing elements of similar or different data type in square brackets [...], or with range() function."
   ]
  },
  {
   "cell_type": "code",
   "execution_count": 1,
   "id": "28907a8e",
   "metadata": {},
   "outputs": [
    {
     "name": "stdout",
     "output_type": "stream",
     "text": [
      "['Mon', 'Tue', 'Wed', 'Thur', 'Fri']\n"
     ]
    }
   ],
   "source": [
    "# Creating a list\n",
    "\n",
    "week_days = ['Mon', 'Tue', 'Wed', 'Thur','Fri']\n",
    "even_numbers = [2, 4, 6, 8, 10]\n",
    "mixed_list = ['Mon', 1, 'Tue', 2, 'Wed', 3]\n",
    "\n",
    "# Displaying elements of a list\n",
    "print(week_days)"
   ]
  },
  {
   "cell_type": "code",
   "execution_count": 2,
   "id": "999e888c",
   "metadata": {},
   "outputs": [
    {
     "name": "stdout",
     "output_type": "stream",
     "text": [
      "0\n",
      "1\n",
      "2\n",
      "3\n",
      "4\n"
     ]
    }
   ],
   "source": [
    "# Creating a list with range()\n",
    "\n",
    "nums = range(5)\n",
    "\n",
    "for i in nums:\n",
    "    print(i)"
   ]
  },
  {
   "cell_type": "markdown",
   "id": "1b6b1851",
   "metadata": {},
   "source": [
    "__Accessing the elements of the list__\\\n",
    "We can access the a given element of the list by providing the index of the element in a bracket. The index starts at 0 in Python."
   ]
  },
  {
   "cell_type": "code",
   "execution_count": 3,
   "id": "9aef32ed",
   "metadata": {},
   "outputs": [
    {
     "data": {
      "text/plain": [
       "'Mon'"
      ]
     },
     "execution_count": 3,
     "metadata": {},
     "output_type": "execute_result"
    }
   ],
   "source": [
    "# Accessing the first elements of the list\n",
    "\n",
    "week_days[0]"
   ]
  },
  {
   "cell_type": "code",
   "execution_count": 4,
   "id": "d5e334d2",
   "metadata": {},
   "outputs": [
    {
     "data": {
      "text/plain": [
       "6"
      ]
     },
     "execution_count": 4,
     "metadata": {},
     "output_type": "execute_result"
    }
   ],
   "source": [
    "even_numbers[2]"
   ]
  },
  {
   "cell_type": "code",
   "execution_count": 5,
   "id": "10781bf3",
   "metadata": {},
   "outputs": [
    {
     "name": "stdout",
     "output_type": "stream",
     "text": [
      "10\n"
     ]
    }
   ],
   "source": [
    "# Getting the last element of the list\n",
    "\n",
    "print(even_numbers[-1])"
   ]
  },
  {
   "cell_type": "markdown",
   "id": "c6b0ae99",
   "metadata": {},
   "source": [
    "__Slicing a list__\\\n",
    "Given a list, we can slice it to get any parts or combination of its elements forming another list."
   ]
  },
  {
   "cell_type": "code",
   "execution_count": 6,
   "id": "a61b42c2",
   "metadata": {},
   "outputs": [
    {
     "data": {
      "text/plain": [
       "['Mon', 'Tue']"
      ]
     },
     "execution_count": 6,
     "metadata": {},
     "output_type": "execute_result"
    }
   ],
   "source": [
    "# Get the elements from index 0 to 2. Index 2 is not included.\n",
    "\n",
    "week_days = ['Mon', 'Tue', 'Wed', 'Thur','Fri']\n",
    "week_days[0:2]"
   ]
  },
  {
   "cell_type": "code",
   "execution_count": 7,
   "id": "ff823bf2",
   "metadata": {},
   "outputs": [
    {
     "data": {
      "text/plain": [
       "['Tue', 'Wed', 'Thur', 'Fri']"
      ]
     },
     "execution_count": 7,
     "metadata": {},
     "output_type": "execute_result"
    }
   ],
   "source": [
    "# Get elements from the last fourth elements to the first\n",
    "# -1 starts at the last element 'Fri', -2 second last element `Thur'..... -4 to 'Tue'\n",
    "\n",
    "week_days[-4:]"
   ]
  },
  {
   "cell_type": "code",
   "execution_count": 8,
   "id": "650998ca",
   "metadata": {},
   "outputs": [
    {
     "data": {
      "text/plain": [
       "['Mon', 'Tue', 'Wed', 'Thur']"
      ]
     },
     "execution_count": 8,
     "metadata": {},
     "output_type": "execute_result"
    }
   ],
   "source": [
    "# Get all elements up to the fourth index\n",
    "\n",
    "week_days[:4]"
   ]
  },
  {
   "cell_type": "code",
   "execution_count": 9,
   "id": "740c1447",
   "metadata": {},
   "outputs": [
    {
     "data": {
      "text/plain": [
       "['Wed', 'Thur', 'Fri']"
      ]
     },
     "execution_count": 9,
     "metadata": {},
     "output_type": "execute_result"
    }
   ],
   "source": [
    "# Get all elements from the second to the last index\n",
    "\n",
    "week_days[2:]"
   ]
  },
  {
   "cell_type": "code",
   "execution_count": 10,
   "id": "90202fc3",
   "metadata": {},
   "outputs": [
    {
     "data": {
      "text/plain": [
       "['Mon', 'Tue', 'Wed', 'Thur', 'Fri']"
      ]
     },
     "execution_count": 10,
     "metadata": {},
     "output_type": "execute_result"
    }
   ],
   "source": [
    "week_days[:]"
   ]
  },
  {
   "cell_type": "markdown",
   "id": "320f9667",
   "metadata": {},
   "source": [
    "__Changing elements in a list__\\\n",
    "Python lists are mutable. We can delete or change the elements of the list."
   ]
  },
  {
   "cell_type": "code",
   "execution_count": 11,
   "id": "c9c08c0d",
   "metadata": {},
   "outputs": [
    {
     "data": {
      "text/plain": [
       "['James', 'Jean', 'Sebastian', 'Prit']"
      ]
     },
     "execution_count": 11,
     "metadata": {},
     "output_type": "execute_result"
    }
   ],
   "source": [
    "names = ['James', 'Jean', 'Sebastian', 'Prit']\n",
    "names"
   ]
  },
  {
   "cell_type": "code",
   "execution_count": 12,
   "id": "eece0155",
   "metadata": {},
   "outputs": [
    {
     "data": {
      "text/plain": [
       "['James', 'Nyandwi', 'Ras', 'Prit']"
      ]
     },
     "execution_count": 12,
     "metadata": {},
     "output_type": "execute_result"
    }
   ],
   "source": [
    "# Change 'Jean' to 'Nyandwi' and 'Sebastian' to 'Ras'\n",
    "\n",
    "names[1:3] = ['Nyandwi', 'Ras']\n",
    "names"
   ]
  },
  {
   "cell_type": "code",
   "execution_count": 13,
   "id": "498185b2",
   "metadata": {},
   "outputs": [
    {
     "data": {
      "text/plain": [
       "['James', 'Nyandwi', 'Ras', 'Sun']"
      ]
     },
     "execution_count": 13,
     "metadata": {},
     "output_type": "execute_result"
    }
   ],
   "source": [
    "# Change 'Prit' to Sun\n",
    "\n",
    "names[-1] = 'Sun'\n",
    "names"
   ]
  },
  {
   "cell_type": "code",
   "execution_count": 14,
   "id": "a1aa3eec",
   "metadata": {},
   "outputs": [
    {
     "data": {
      "text/plain": [
       "['Francois', 'Nyandwi', 'Ras', 'Sun']"
      ]
     },
     "execution_count": 14,
     "metadata": {},
     "output_type": "execute_result"
    }
   ],
   "source": [
    "# Change `James` to ``Francois`\n",
    "\n",
    "names[0] = 'Francois'\n",
    "names"
   ]
  },
  {
   "cell_type": "markdown",
   "id": "1ad2560c",
   "metadata": {},
   "source": [
    "In order to delete a given element in a list, we can empty slice it but the better way to delete element is to use del keyword."
   ]
  },
  {
   "cell_type": "code",
   "execution_count": 16,
   "id": "c83c47d0",
   "metadata": {},
   "outputs": [
    {
     "data": {
      "text/plain": [
       "['Francois', 'Ras', 'Sun']"
      ]
     },
     "execution_count": 16,
     "metadata": {},
     "output_type": "execute_result"
    }
   ],
   "source": [
    "# Delete Nyandwi in names list\n",
    "\n",
    "del names[1]\n",
    "names"
   ]
  },
  {
   "cell_type": "markdown",
   "id": "1646f3c3",
   "metadata": {},
   "source": [
    "If you know the index of the element you want to remove, you can use `pop()`. If you don't provide the index in pop(), the last element will be deleted."
   ]
  },
  {
   "cell_type": "code",
   "execution_count": 17,
   "id": "ef6e36a3",
   "metadata": {},
   "outputs": [
    {
     "data": {
      "text/plain": [
       "['James', 'Jean', 'Prit']"
      ]
     },
     "execution_count": 17,
     "metadata": {},
     "output_type": "execute_result"
    }
   ],
   "source": [
    "names = ['James', 'Jean', 'Sebastian', 'Prit']\n",
    "names.pop(2)\n",
    "names"
   ]
  },
  {
   "cell_type": "markdown",
   "id": "3215f08e",
   "metadata": {},
   "source": [
    "Also, we can use `remove()` to delete the element provided inside the remove() method."
   ]
  },
  {
   "cell_type": "code",
   "execution_count": 18,
   "id": "67bf887b",
   "metadata": {},
   "outputs": [
    {
     "data": {
      "text/plain": [
       "['Jean', 'Sebastian', 'Prit']"
      ]
     },
     "execution_count": 18,
     "metadata": {},
     "output_type": "execute_result"
    }
   ],
   "source": [
    "names = ['James', 'Jean', 'Sebastian', 'Prit']\n",
    "names.remove('James')\n",
    "names"
   ]
  },
  {
   "cell_type": "markdown",
   "id": "d4d3b229",
   "metadata": {},
   "source": [
    "We can also use `append()` to add element to the list."
   ]
  },
  {
   "cell_type": "code",
   "execution_count": 19,
   "id": "b7b25ebb",
   "metadata": {},
   "outputs": [
    {
     "data": {
      "text/plain": [
       "['James', 'Jean', 'Sebastian', 'Prit', 'Jac', 'Jess']"
      ]
     },
     "execution_count": 19,
     "metadata": {},
     "output_type": "execute_result"
    }
   ],
   "source": [
    "# Adding the new elements in list\n",
    "\n",
    "names = ['James', 'Jean', 'Sebastian', 'Prit']\n",
    "names.append('Jac')\n",
    "names.append('Jess')\n",
    "names"
   ]
  },
  {
   "cell_type": "markdown",
   "id": "449f4255",
   "metadata": {},
   "source": [
    "__Traversing a list__\\\n",
    "There are times that we may need to go over the list to read the elements of the list or perform iterative operations. We can use for loop to traverse through the list."
   ]
  },
  {
   "cell_type": "code",
   "execution_count": 20,
   "id": "f1cce872",
   "metadata": {},
   "outputs": [
    {
     "name": "stdout",
     "output_type": "stream",
     "text": [
      "James\n",
      "Jean\n",
      "Sebastian\n",
      "Prit\n"
     ]
    }
   ],
   "source": [
    "# Given a list names, use for loop to display its elements\n",
    "\n",
    "names = ['James', 'Jean', 'Sebastian', 'Prit']\n",
    "\n",
    "for name in names:\n",
    "    print(name)"
   ]
  },
  {
   "cell_type": "code",
   "execution_count": 21,
   "id": "9efd6d85",
   "metadata": {},
   "outputs": [
    {
     "data": {
      "text/plain": [
       "[2, 4, 6, 10]"
      ]
     },
     "execution_count": 21,
     "metadata": {},
     "output_type": "execute_result"
    }
   ],
   "source": [
    "# Given a list nums, add 1 to the first element, 2 to the second, 3 to 3rd element, 4 to 4th element\n",
    "# Example: nums = [1,2,3,6] will be nums_new = [2,4,6,10]\n",
    "\n",
    "nums = [1, 2, 3, 6]\n",
    "nums_new = []\n",
    "\n",
    "for i in range(len(nums)): #len(nums) gives the length of the list\n",
    "    num = nums[i] + i + 1\n",
    "    nums_new.append(num)\n",
    "    \n",
    "nums_new"
   ]
  },
  {
   "cell_type": "markdown",
   "id": "32f1d5b8",
   "metadata": {},
   "source": [
    "__Operations on list__"
   ]
  },
  {
   "cell_type": "code",
   "execution_count": 22,
   "id": "fbbc95be",
   "metadata": {},
   "outputs": [
    {
     "data": {
      "text/plain": [
       "[1, 2, 3, 4, 5, 6]"
      ]
     },
     "execution_count": 22,
     "metadata": {},
     "output_type": "execute_result"
    }
   ],
   "source": [
    "# Concatenating two lists\n",
    "\n",
    "a = [1,2,3]\n",
    "b = [4,5,6]\n",
    "\n",
    "c = a + b\n",
    "\n",
    "c"
   ]
  },
  {
   "cell_type": "code",
   "execution_count": 23,
   "id": "2b27fa9b",
   "metadata": {},
   "outputs": [
    {
     "data": {
      "text/plain": [
       "[None, None, None, None, None]"
      ]
     },
     "execution_count": 23,
     "metadata": {},
     "output_type": "execute_result"
    }
   ],
   "source": [
    "# We can also use * operator to repeat a list a number of times\n",
    "\n",
    "[None] * 5"
   ]
  },
  {
   "cell_type": "code",
   "execution_count": 24,
   "id": "327a97bf",
   "metadata": {},
   "outputs": [
    {
     "data": {
      "text/plain": [
       "[True, True, True, True]"
      ]
     },
     "execution_count": 24,
     "metadata": {},
     "output_type": "execute_result"
    }
   ],
   "source": [
    "[True] * 4"
   ]
  },
  {
   "cell_type": "code",
   "execution_count": 25,
   "id": "22a4cc22",
   "metadata": {},
   "outputs": [
    {
     "data": {
      "text/plain": [
       "[1, 2, 4, 5, 1, 2, 4, 5]"
      ]
     },
     "execution_count": 25,
     "metadata": {},
     "output_type": "execute_result"
    }
   ],
   "source": [
    "[1,2,4,5] * 2"
   ]
  },
  {
   "cell_type": "markdown",
   "id": "61cad5a1",
   "metadata": {},
   "source": [
    "__Nested lists__"
   ]
  },
  {
   "cell_type": "code",
   "execution_count": 26,
   "id": "7638e5b9",
   "metadata": {},
   "outputs": [
    {
     "data": {
      "text/plain": [
       "['a', 'b', 'c']"
      ]
     },
     "execution_count": 26,
     "metadata": {},
     "output_type": "execute_result"
    }
   ],
   "source": [
    "# Creating a list in other list\n",
    "\n",
    "nested_list = [1,2,3, ['a', 'b', 'c']]\n",
    "\n",
    "\n",
    "# Get the ['a', 'b', 'c'] from the nested_list\n",
    "\n",
    "nested_list[3]"
   ]
  },
  {
   "cell_type": "code",
   "execution_count": 27,
   "id": "8c110896",
   "metadata": {},
   "outputs": [
    {
     "data": {
      "text/plain": [
       "2"
      ]
     },
     "execution_count": 27,
     "metadata": {},
     "output_type": "execute_result"
    }
   ],
   "source": [
    "# Indexing and slicing a nested list is quite similar to normal list\n",
    "\n",
    "nested_list[1]"
   ]
  },
  {
   "cell_type": "markdown",
   "id": "5a0a4915",
   "metadata": {},
   "source": [
    "__List Methods__\\\n",
    "Python also offers methods which make it easy to work with lists. We already have been using some list methods such as `pop()` and `append()` but let's review more other methods."
   ]
  },
  {
   "cell_type": "code",
   "execution_count": 28,
   "id": "d0929c10",
   "metadata": {},
   "outputs": [
    {
     "data": {
      "text/plain": [
       "[2, 8, 10, 12, 14, 16, 20]"
      ]
     },
     "execution_count": 28,
     "metadata": {},
     "output_type": "execute_result"
    }
   ],
   "source": [
    "# Sorting a list with sort()\n",
    "\n",
    "even_numbers = [2,14,16,12,20,8,10]\n",
    "\n",
    "even_numbers.sort()\n",
    "\n",
    "even_numbers"
   ]
  },
  {
   "cell_type": "code",
   "execution_count": 29,
   "id": "9d135122",
   "metadata": {},
   "outputs": [
    {
     "data": {
      "text/plain": [
       "[20, 16, 14, 12, 10, 8, 2]"
      ]
     },
     "execution_count": 29,
     "metadata": {},
     "output_type": "execute_result"
    }
   ],
   "source": [
    "# Reversing a string with reverse()\n",
    "\n",
    "even_numbers.reverse()\n",
    "even_numbers"
   ]
  },
  {
   "cell_type": "code",
   "execution_count": 30,
   "id": "e9753fa6",
   "metadata": {},
   "outputs": [
    {
     "data": {
      "text/plain": [
       "[2, 14, 16, 12, 20, 8, 10, 40]"
      ]
     },
     "execution_count": 30,
     "metadata": {},
     "output_type": "execute_result"
    }
   ],
   "source": [
    "# Adding other elements to a list with append()\n",
    "\n",
    "even_numbers = [2,14,16,12,20,8,10]\n",
    "\n",
    "even_numbers.append(40)\n",
    "even_numbers"
   ]
  },
  {
   "cell_type": "code",
   "execution_count": 31,
   "id": "257cd47a",
   "metadata": {},
   "outputs": [
    {
     "data": {
      "text/plain": [
       "[14, 16, 12, 20, 8, 10, 40]"
      ]
     },
     "execution_count": 31,
     "metadata": {},
     "output_type": "execute_result"
    }
   ],
   "source": [
    "# Removing the first element of a list\n",
    "\n",
    "even_numbers.remove(2)\n",
    "even_numbers"
   ]
  },
  {
   "cell_type": "code",
   "execution_count": 32,
   "id": "97d1478d",
   "metadata": {},
   "outputs": [
    {
     "data": {
      "text/plain": [
       "14"
      ]
     },
     "execution_count": 32,
     "metadata": {},
     "output_type": "execute_result"
    }
   ],
   "source": [
    "## Return the element of the list at index x\n",
    "\n",
    "even_numbers = [2,14,16,12,20,8,10]\n",
    "\n",
    "## Return the item at the 1st index\n",
    "\n",
    "even_numbers.pop(1)"
   ]
  },
  {
   "cell_type": "code",
   "execution_count": 33,
   "id": "5d89217c",
   "metadata": {},
   "outputs": [
    {
     "data": {
      "text/plain": [
       "10"
      ]
     },
     "execution_count": 33,
     "metadata": {},
     "output_type": "execute_result"
    }
   ],
   "source": [
    "# pop() without index specified will return the last element of the list\n",
    "\n",
    "even_numbers = [2,14,16,12,20,8,10]\n",
    "even_numbers.pop()"
   ]
  },
  {
   "cell_type": "code",
   "execution_count": 34,
   "id": "7e9662c3",
   "metadata": {},
   "outputs": [
    {
     "data": {
      "text/plain": [
       "2"
      ]
     },
     "execution_count": 34,
     "metadata": {},
     "output_type": "execute_result"
    }
   ],
   "source": [
    "# Count a number of times an element appear in a list\n",
    "\n",
    "even_numbers = [2,2,4,6,8]\n",
    "even_numbers.count(2)"
   ]
  },
  {
   "cell_type": "markdown",
   "id": "efaf1bde",
   "metadata": {},
   "source": [
    "__List and strings__\\\n",
    "We previously have learned about strings. Strings are sequence of characters. List is a sequence of values."
   ]
  },
  {
   "cell_type": "code",
   "execution_count": 35,
   "id": "c64999ac",
   "metadata": {},
   "outputs": [
    {
     "data": {
      "text/plain": [
       "['A', 'p', 'p', 'l', 'e']"
      ]
     },
     "execution_count": 35,
     "metadata": {},
     "output_type": "execute_result"
    }
   ],
   "source": [
    "# We can convert a string into list\n",
    "\n",
    "stri = 'Apple'\n",
    "\n",
    "list(stri)"
   ]
  },
  {
   "cell_type": "code",
   "execution_count": 36,
   "id": "51f31591",
   "metadata": {},
   "outputs": [
    {
     "data": {
      "text/plain": [
       "['List', 'and', 'Strings']"
      ]
     },
     "execution_count": 36,
     "metadata": {},
     "output_type": "execute_result"
    }
   ],
   "source": [
    "# Splitting a string produces a list of individual words\n",
    "\n",
    "stri_2 = \"List and Strings\"\n",
    "stri_2.split()"
   ]
  },
  {
   "cell_type": "code",
   "execution_count": 38,
   "id": "0d1da80d",
   "metadata": {},
   "outputs": [
    {
     "data": {
      "text/plain": [
       "['Santander', 'Bank', 'of', 'US']"
      ]
     },
     "execution_count": 38,
     "metadata": {},
     "output_type": "execute_result"
    }
   ],
   "source": [
    "stri_3 = \"Santander-Bank-of-US\"\n",
    "\n",
    "stri_3.split('-')"
   ]
  },
  {
   "cell_type": "code",
   "execution_count": null,
   "id": "540f71ac",
   "metadata": {},
   "outputs": [],
   "source": []
  }
 ],
 "metadata": {
  "kernelspec": {
   "display_name": "PyFundas",
   "language": "python",
   "name": "python3"
  },
  "language_info": {
   "codemirror_mode": {
    "name": "ipython",
    "version": 3
   },
   "file_extension": ".py",
   "mimetype": "text/x-python",
   "name": "python",
   "nbconvert_exporter": "python",
   "pygments_lexer": "ipython3",
   "version": "3.12.1"
  }
 },
 "nbformat": 4,
 "nbformat_minor": 5
}
