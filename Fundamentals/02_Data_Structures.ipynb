{
 "cells": [
  {
   "cell_type": "markdown",
   "id": "8cabe0a5",
   "metadata": {},
   "source": [
    "## Data Structures\n",
    "Data structures are used to organize and store the data. Algorithms supports operations on data.\n",
    "\n",
    "Python has 4 main data structures: `Lists`, `Dictionaries`, `Tuples` and `Sets`."
   ]
  },
  {
   "cell_type": "markdown",
   "id": "df7bc6af",
   "metadata": {},
   "source": [
    "__List__\\\n",
    "A list is a set of ordered values. Each value in a list is called an `element` or `item` and can be identified by an index. A list supports different data types, we can have a list of integers, strings, and floats.\n",
    "\n",
    "What we will see with Python lists:\n",
    "\n",
    "* Creating a list\n",
    "* Accessing elements in a list\n",
    "* Slicing a list\n",
    "* Changing elements in a list\n",
    "* Traversing a list\n",
    "* Operations on list\n",
    "* Nested lists\n",
    "* List methods\n",
    "* List and strings\n",
    "\n",
    "__Creating a List__\\\n",
    "A python list can be created by enclosing elements of similar or different data type in square brackets [...], or with range() function."
   ]
  },
  {
   "cell_type": "code",
   "execution_count": 2,
   "id": "28907a8e",
   "metadata": {},
   "outputs": [
    {
     "name": "stdout",
     "output_type": "stream",
     "text": [
      "['Mon', 'Tue', 'Wed', 'Thur', 'Fri']\n"
     ]
    }
   ],
   "source": [
    "# Creating a list\n",
    "\n",
    "week_days = ['Mon', 'Tue', 'Wed', 'Thur','Fri']\n",
    "even_numbers = [2, 4, 6, 8, 10]\n",
    "mixed_list = ['Mon', 1, 'Tue', 2, 'Wed', 3]\n",
    "\n",
    "# Displaying elements of a list\n",
    "print(week_days)"
   ]
  },
  {
   "cell_type": "code",
   "execution_count": 3,
   "id": "999e888c",
   "metadata": {},
   "outputs": [
    {
     "name": "stdout",
     "output_type": "stream",
     "text": [
      "0\n",
      "1\n",
      "2\n",
      "3\n",
      "4\n"
     ]
    }
   ],
   "source": [
    "# Creating a list with range()\n",
    "\n",
    "nums = range(5)\n",
    "\n",
    "for i in nums:\n",
    "    print(i)"
   ]
  },
  {
   "cell_type": "markdown",
   "id": "1b6b1851",
   "metadata": {},
   "source": [
    "__Accessing the elements of the list__\\\n",
    "We can access the a given element of the list by providing the index of the element in a bracket. The index starts at 0 in Python."
   ]
  },
  {
   "cell_type": "code",
   "execution_count": 4,
   "id": "9aef32ed",
   "metadata": {},
   "outputs": [
    {
     "data": {
      "text/plain": [
       "'Mon'"
      ]
     },
     "execution_count": 4,
     "metadata": {},
     "output_type": "execute_result"
    }
   ],
   "source": [
    "# Accessing the first elements of the list\n",
    "\n",
    "week_days[0]"
   ]
  },
  {
   "cell_type": "code",
   "execution_count": 5,
   "id": "d5e334d2",
   "metadata": {},
   "outputs": [
    {
     "data": {
      "text/plain": [
       "6"
      ]
     },
     "execution_count": 5,
     "metadata": {},
     "output_type": "execute_result"
    }
   ],
   "source": [
    "even_numbers[2]"
   ]
  },
  {
   "cell_type": "code",
   "execution_count": 6,
   "id": "10781bf3",
   "metadata": {},
   "outputs": [
    {
     "name": "stdout",
     "output_type": "stream",
     "text": [
      "10\n"
     ]
    }
   ],
   "source": [
    "# Getting the last element of the list\n",
    "\n",
    "print(even_numbers[-1])"
   ]
  },
  {
   "cell_type": "markdown",
   "id": "c6b0ae99",
   "metadata": {},
   "source": [
    "__Slicing a list__\\\n",
    "Given a list, we can slice it to get any parts or combination of its elements forming another list."
   ]
  },
  {
   "cell_type": "code",
   "execution_count": 7,
   "id": "a61b42c2",
   "metadata": {},
   "outputs": [
    {
     "data": {
      "text/plain": [
       "['Mon', 'Tue']"
      ]
     },
     "execution_count": 7,
     "metadata": {},
     "output_type": "execute_result"
    }
   ],
   "source": [
    "# Get the elements from index 0 to 2. Index 2 is not included.\n",
    "\n",
    "week_days = ['Mon', 'Tue', 'Wed', 'Thur','Fri']\n",
    "week_days[0:2]"
   ]
  },
  {
   "cell_type": "code",
   "execution_count": 8,
   "id": "ff823bf2",
   "metadata": {},
   "outputs": [
    {
     "data": {
      "text/plain": [
       "['Tue', 'Wed', 'Thur', 'Fri']"
      ]
     },
     "execution_count": 8,
     "metadata": {},
     "output_type": "execute_result"
    }
   ],
   "source": [
    "# Get elements from the last fourth elements to the first\n",
    "# -1 starts at the last element 'Fri', -2 second last element `Thur'..... -4 to 'Tue'\n",
    "\n",
    "week_days[-4:]"
   ]
  },
  {
   "cell_type": "code",
   "execution_count": 9,
   "id": "650998ca",
   "metadata": {},
   "outputs": [
    {
     "data": {
      "text/plain": [
       "['Mon', 'Tue', 'Wed', 'Thur']"
      ]
     },
     "execution_count": 9,
     "metadata": {},
     "output_type": "execute_result"
    }
   ],
   "source": [
    "# Get all elements up to the fourth index\n",
    "\n",
    "week_days[:4]"
   ]
  },
  {
   "cell_type": "code",
   "execution_count": 10,
   "id": "740c1447",
   "metadata": {},
   "outputs": [
    {
     "data": {
      "text/plain": [
       "['Wed', 'Thur', 'Fri']"
      ]
     },
     "execution_count": 10,
     "metadata": {},
     "output_type": "execute_result"
    }
   ],
   "source": [
    "# Get all elements from the second to the last index\n",
    "\n",
    "week_days[2:]"
   ]
  },
  {
   "cell_type": "code",
   "execution_count": 11,
   "id": "90202fc3",
   "metadata": {},
   "outputs": [
    {
     "data": {
      "text/plain": [
       "['Mon', 'Tue', 'Wed', 'Thur', 'Fri']"
      ]
     },
     "execution_count": 11,
     "metadata": {},
     "output_type": "execute_result"
    }
   ],
   "source": [
    "week_days[:]"
   ]
  },
  {
   "cell_type": "markdown",
   "id": "320f9667",
   "metadata": {},
   "source": [
    "__Changing elements in a list__\\\n",
    "Python lists are mutable. We can delete or change the elements of the list."
   ]
  },
  {
   "cell_type": "code",
   "execution_count": 12,
   "id": "c9c08c0d",
   "metadata": {},
   "outputs": [
    {
     "data": {
      "text/plain": [
       "['Alhaj', 'Sheikh', 'Abdulla', 'Ayyubi']"
      ]
     },
     "execution_count": 12,
     "metadata": {},
     "output_type": "execute_result"
    }
   ],
   "source": [
    "names = ['Alhaj', 'Sheikh', 'Abdulla', 'Ayyubi']\n",
    "names"
   ]
  },
  {
   "cell_type": "code",
   "execution_count": 13,
   "id": "eece0155",
   "metadata": {},
   "outputs": [
    {
     "data": {
      "text/plain": [
       "['Alhaj', 'Shekh', 'Abdullah', 'Ayyubi']"
      ]
     },
     "execution_count": 13,
     "metadata": {},
     "output_type": "execute_result"
    }
   ],
   "source": [
    "# Change 'Sheikh' to 'Shekh' and 'Abdulla' to 'Abdullah'\n",
    "\n",
    "names[1:3] = ['Shekh', 'Abdullah']\n",
    "names"
   ]
  },
  {
   "cell_type": "code",
   "execution_count": 14,
   "id": "498185b2",
   "metadata": {},
   "outputs": [
    {
     "data": {
      "text/plain": [
       "['Alhaj', 'Shekh', 'Abdullah', 'Ayubi']"
      ]
     },
     "execution_count": 14,
     "metadata": {},
     "output_type": "execute_result"
    }
   ],
   "source": [
    "# Change 'Ayyubi' to Ayubi\n",
    "\n",
    "names[-1] = 'Ayubi'\n",
    "names"
   ]
  },
  {
   "cell_type": "code",
   "execution_count": 15,
   "id": "a1aa3eec",
   "metadata": {},
   "outputs": [
    {
     "data": {
      "text/plain": [
       "['Al-Haj', 'Shekh', 'Abdullah', 'Ayubi']"
      ]
     },
     "execution_count": 15,
     "metadata": {},
     "output_type": "execute_result"
    }
   ],
   "source": [
    "# Change `Alhaj` to `Al-Haj`\n",
    "\n",
    "names[0] = 'Al-Haj'\n",
    "names"
   ]
  },
  {
   "cell_type": "markdown",
   "id": "1ad2560c",
   "metadata": {},
   "source": [
    "In order to delete a given element in a list, we can empty slice it but the better way to delete element is to use del keyword."
   ]
  },
  {
   "cell_type": "code",
   "execution_count": 16,
   "id": "c83c47d0",
   "metadata": {},
   "outputs": [
    {
     "data": {
      "text/plain": [
       "['Al-Haj', 'Shekh', 'Abdullah']"
      ]
     },
     "execution_count": 16,
     "metadata": {},
     "output_type": "execute_result"
    }
   ],
   "source": [
    "# Delete Ayubi in names list\n",
    "\n",
    "del names[3]\n",
    "names"
   ]
  },
  {
   "cell_type": "markdown",
   "id": "1646f3c3",
   "metadata": {},
   "source": [
    "If you know the index of the element you want to remove, you can use `pop()`. If you don't provide the index in pop(), the last element will be deleted."
   ]
  },
  {
   "cell_type": "code",
   "execution_count": 17,
   "id": "ef6e36a3",
   "metadata": {},
   "outputs": [
    {
     "data": {
      "text/plain": [
       "['Al-Haj', 'Shekh', 'Abdullah']"
      ]
     },
     "execution_count": 17,
     "metadata": {},
     "output_type": "execute_result"
    }
   ],
   "source": [
    "names = ['Al-Haj', 'Shekh', 'Abdullah', 'Ayubi']\n",
    "names.pop(3)\n",
    "names"
   ]
  },
  {
   "cell_type": "markdown",
   "id": "3215f08e",
   "metadata": {},
   "source": [
    "Also, we can use `remove()` to delete the element provided inside the remove() method."
   ]
  },
  {
   "cell_type": "code",
   "execution_count": 18,
   "id": "67bf887b",
   "metadata": {},
   "outputs": [
    {
     "data": {
      "text/plain": [
       "['Al-Haj', 'Shekh', 'Abdullah']"
      ]
     },
     "execution_count": 18,
     "metadata": {},
     "output_type": "execute_result"
    }
   ],
   "source": [
    "names = ['Al-Haj', 'Shekh', 'Abdullah', 'Ayubi']\n",
    "names.remove('Ayubi')\n",
    "names"
   ]
  },
  {
   "cell_type": "markdown",
   "id": "d4d3b229",
   "metadata": {},
   "source": [
    "We can also use `append()` to add element to the list."
   ]
  },
  {
   "cell_type": "code",
   "execution_count": 19,
   "id": "b7b25ebb",
   "metadata": {},
   "outputs": [
    {
     "data": {
      "text/plain": [
       "['Al-Haj', 'Shekh', 'Abdullah', 'Ayubi', 'ibn', 'Md Chand']"
      ]
     },
     "execution_count": 19,
     "metadata": {},
     "output_type": "execute_result"
    }
   ],
   "source": [
    "# Adding the new elements in list\n",
    "\n",
    "names = ['Al-Haj', 'Shekh', 'Abdullah', 'Ayubi']\n",
    "names.append('ibn')\n",
    "names.append('Md Chand')\n",
    "names"
   ]
  },
  {
   "cell_type": "markdown",
   "id": "449f4255",
   "metadata": {},
   "source": [
    "__Traversing a list__\\\n",
    "There are times that we may need to go over the list to read the elements of the list or perform iterative operations. We can use for loop to traverse through the list."
   ]
  },
  {
   "cell_type": "code",
   "execution_count": 20,
   "id": "f1cce872",
   "metadata": {},
   "outputs": [
    {
     "name": "stdout",
     "output_type": "stream",
     "text": [
      "Al-Haj\n",
      "Shekh\n",
      "Abdullah\n",
      "Ayubi\n"
     ]
    }
   ],
   "source": [
    "# Given a list names, use for loop to display its elements\n",
    "\n",
    "names = ['Al-Haj', 'Shekh', 'Abdullah', 'Ayubi']\n",
    "\n",
    "for name in names:\n",
    "    print(name)"
   ]
  },
  {
   "cell_type": "code",
   "execution_count": 21,
   "id": "9efd6d85",
   "metadata": {},
   "outputs": [
    {
     "data": {
      "text/plain": [
       "[2, 4, 6, 10]"
      ]
     },
     "execution_count": 21,
     "metadata": {},
     "output_type": "execute_result"
    }
   ],
   "source": [
    "# Given a list nums, add 1 to the first element, 2 to the second, 3 to 3rd element, 4 to 4th element\n",
    "# Example: nums = [1,2,3,6] will be nums_new = [2,4,6,10]\n",
    "\n",
    "nums = [1, 2, 3, 6]\n",
    "nums_new = []\n",
    "\n",
    "for i in range(len(nums)): #len(nums) gives the length of the list\n",
    "    num = nums[i] + i + 1\n",
    "    nums_new.append(num)\n",
    "    \n",
    "nums_new"
   ]
  },
  {
   "cell_type": "markdown",
   "id": "32f1d5b8",
   "metadata": {},
   "source": [
    "__Operations on list__"
   ]
  },
  {
   "cell_type": "code",
   "execution_count": 22,
   "id": "fbbc95be",
   "metadata": {},
   "outputs": [
    {
     "data": {
      "text/plain": [
       "[1, 2, 3, 4, 5, 6]"
      ]
     },
     "execution_count": 22,
     "metadata": {},
     "output_type": "execute_result"
    }
   ],
   "source": [
    "# Concatenating two lists\n",
    "\n",
    "a = [1,2,3]\n",
    "b = [4,5,6]\n",
    "\n",
    "c = a + b\n",
    "\n",
    "c"
   ]
  },
  {
   "cell_type": "code",
   "execution_count": 23,
   "id": "2b27fa9b",
   "metadata": {},
   "outputs": [
    {
     "data": {
      "text/plain": [
       "[None, None, None, None, None]"
      ]
     },
     "execution_count": 23,
     "metadata": {},
     "output_type": "execute_result"
    }
   ],
   "source": [
    "# We can also use * operator to repeat a list a number of times\n",
    "\n",
    "[None] * 5"
   ]
  },
  {
   "cell_type": "code",
   "execution_count": 24,
   "id": "327a97bf",
   "metadata": {},
   "outputs": [
    {
     "data": {
      "text/plain": [
       "[True, True, True, True]"
      ]
     },
     "execution_count": 24,
     "metadata": {},
     "output_type": "execute_result"
    }
   ],
   "source": [
    "[True] * 4"
   ]
  },
  {
   "cell_type": "code",
   "execution_count": 25,
   "id": "22a4cc22",
   "metadata": {},
   "outputs": [
    {
     "data": {
      "text/plain": [
       "[1, 2, 4, 5, 1, 2, 4, 5]"
      ]
     },
     "execution_count": 25,
     "metadata": {},
     "output_type": "execute_result"
    }
   ],
   "source": [
    "[1,2,4,5] * 2"
   ]
  },
  {
   "cell_type": "markdown",
   "id": "61cad5a1",
   "metadata": {},
   "source": [
    "__Nested lists__"
   ]
  },
  {
   "cell_type": "code",
   "execution_count": 26,
   "id": "7638e5b9",
   "metadata": {},
   "outputs": [
    {
     "data": {
      "text/plain": [
       "['a', 'b', 'c']"
      ]
     },
     "execution_count": 26,
     "metadata": {},
     "output_type": "execute_result"
    }
   ],
   "source": [
    "# Creating a list in other list\n",
    "\n",
    "nested_list = [1,2,3, ['a', 'b', 'c']]\n",
    "\n",
    "\n",
    "# Get the ['a', 'b', 'c'] from the nested_list\n",
    "\n",
    "nested_list[3]"
   ]
  },
  {
   "cell_type": "code",
   "execution_count": 27,
   "id": "8c110896",
   "metadata": {},
   "outputs": [
    {
     "data": {
      "text/plain": [
       "2"
      ]
     },
     "execution_count": 27,
     "metadata": {},
     "output_type": "execute_result"
    }
   ],
   "source": [
    "# Indexing and slicing a nested list is quite similar to normal list\n",
    "\n",
    "nested_list[1]"
   ]
  },
  {
   "cell_type": "markdown",
   "id": "5a0a4915",
   "metadata": {},
   "source": [
    "__List Methods__\\\n",
    "Python also offers methods which make it easy to work with lists. We already have been using some list methods such as `pop()` and `append()` but let's review more other methods."
   ]
  },
  {
   "cell_type": "code",
   "execution_count": 28,
   "id": "d0929c10",
   "metadata": {},
   "outputs": [
    {
     "data": {
      "text/plain": [
       "[2, 8, 10, 12, 14, 16, 20]"
      ]
     },
     "execution_count": 28,
     "metadata": {},
     "output_type": "execute_result"
    }
   ],
   "source": [
    "# Sorting a list with sort()\n",
    "\n",
    "even_numbers = [2,14,16,12,20,8,10]\n",
    "\n",
    "even_numbers.sort()\n",
    "\n",
    "even_numbers"
   ]
  },
  {
   "cell_type": "code",
   "execution_count": 29,
   "id": "9d135122",
   "metadata": {},
   "outputs": [
    {
     "data": {
      "text/plain": [
       "[20, 16, 14, 12, 10, 8, 2]"
      ]
     },
     "execution_count": 29,
     "metadata": {},
     "output_type": "execute_result"
    }
   ],
   "source": [
    "# Reversing a string with reverse()\n",
    "\n",
    "even_numbers.reverse()\n",
    "even_numbers"
   ]
  },
  {
   "cell_type": "code",
   "execution_count": 30,
   "id": "e9753fa6",
   "metadata": {},
   "outputs": [
    {
     "data": {
      "text/plain": [
       "[2, 14, 16, 12, 20, 8, 10, 40]"
      ]
     },
     "execution_count": 30,
     "metadata": {},
     "output_type": "execute_result"
    }
   ],
   "source": [
    "# Adding other elements to a list with append()\n",
    "\n",
    "even_numbers = [2,14,16,12,20,8,10]\n",
    "\n",
    "even_numbers.append(40)\n",
    "even_numbers"
   ]
  },
  {
   "cell_type": "code",
   "execution_count": 31,
   "id": "257cd47a",
   "metadata": {},
   "outputs": [
    {
     "data": {
      "text/plain": [
       "[14, 16, 12, 20, 8, 10, 40]"
      ]
     },
     "execution_count": 31,
     "metadata": {},
     "output_type": "execute_result"
    }
   ],
   "source": [
    "# Removing the first element of a list\n",
    "\n",
    "even_numbers.remove(2)\n",
    "even_numbers"
   ]
  },
  {
   "cell_type": "code",
   "execution_count": 32,
   "id": "97d1478d",
   "metadata": {},
   "outputs": [
    {
     "data": {
      "text/plain": [
       "14"
      ]
     },
     "execution_count": 32,
     "metadata": {},
     "output_type": "execute_result"
    }
   ],
   "source": [
    "## Return the element of the list at index x\n",
    "\n",
    "even_numbers = [2,14,16,12,20,8,10]\n",
    "\n",
    "## Return the item at the 1st index\n",
    "\n",
    "even_numbers.pop(1)"
   ]
  },
  {
   "cell_type": "code",
   "execution_count": 33,
   "id": "5d89217c",
   "metadata": {},
   "outputs": [
    {
     "data": {
      "text/plain": [
       "10"
      ]
     },
     "execution_count": 33,
     "metadata": {},
     "output_type": "execute_result"
    }
   ],
   "source": [
    "# pop() without index specified will return the last element of the list\n",
    "\n",
    "even_numbers = [2,14,16,12,20,8,10]\n",
    "even_numbers.pop()"
   ]
  },
  {
   "cell_type": "code",
   "execution_count": 34,
   "id": "7e9662c3",
   "metadata": {},
   "outputs": [
    {
     "data": {
      "text/plain": [
       "2"
      ]
     },
     "execution_count": 34,
     "metadata": {},
     "output_type": "execute_result"
    }
   ],
   "source": [
    "# Count a number of times an element appear in a list\n",
    "\n",
    "even_numbers = [2,2,4,6,8]\n",
    "even_numbers.count(2)"
   ]
  },
  {
   "cell_type": "markdown",
   "id": "efaf1bde",
   "metadata": {},
   "source": [
    "__List and strings__\\\n",
    "We previously have learned about strings. Strings are sequence of characters. List is a sequence of values."
   ]
  },
  {
   "cell_type": "code",
   "execution_count": 35,
   "id": "c64999ac",
   "metadata": {},
   "outputs": [
    {
     "data": {
      "text/plain": [
       "['A', 'p', 'p', 'l', 'e']"
      ]
     },
     "execution_count": 35,
     "metadata": {},
     "output_type": "execute_result"
    }
   ],
   "source": [
    "# We can convert a string into list\n",
    "\n",
    "stri = 'Apple'\n",
    "\n",
    "list(stri)"
   ]
  },
  {
   "cell_type": "code",
   "execution_count": 36,
   "id": "51f31591",
   "metadata": {},
   "outputs": [
    {
     "data": {
      "text/plain": [
       "['List', 'and', 'Strings']"
      ]
     },
     "execution_count": 36,
     "metadata": {},
     "output_type": "execute_result"
    }
   ],
   "source": [
    "# Splitting a string produces a list of individual words\n",
    "\n",
    "stri_2 = \"List and Strings\"\n",
    "stri_2.split()"
   ]
  },
  {
   "cell_type": "code",
   "execution_count": 37,
   "id": "0d1da80d",
   "metadata": {},
   "outputs": [
    {
     "data": {
      "text/plain": [
       "['Unleashing', 'new', 'techniques', 'using', 'python']"
      ]
     },
     "execution_count": 37,
     "metadata": {},
     "output_type": "execute_result"
    }
   ],
   "source": [
    "stri_3 = \"Unleashing-new-techniques-using-python\"\n",
    "\n",
    "stri_3.split('-')"
   ]
  },
  {
   "cell_type": "markdown",
   "id": "2937bee4",
   "metadata": {},
   "source": [
    "### Dictionaries\n",
    "Dictionaries are powerful Python builtin data structure that are used to store data of key and values. A dictionary is like a list but rather than using integers as indices, indices in dictionary can be any data type. Also, unlike lists, dictionary are unordered. Dictionaries dont guarrantee keeping the order of the data.\n",
    "\n",
    "Generally, a dictionary is a collection of key and values. A dictionary stores a mapping of keys and values. A key is what we can refer to index.\n",
    "\n",
    "What we will see:\n",
    "\n",
    "* Creating a dictionary\n",
    "* Accessing values and keys in dictionary\n",
    "* Solving counting problems with dictionary\n",
    "* Traversing a dictionary\n",
    "* The setdefault() method\\\n",
    "__Creating a dictionary__\\\n",
    "We can create with a `dict()` function and add items later, or insert keys and values right away in the curly brackets { }. Let's start with dict() function to create an empty dictionary.\n",
    "\n"
   ]
  },
  {
   "cell_type": "code",
   "execution_count": 38,
   "id": "540f71ac",
   "metadata": {},
   "outputs": [
    {
     "name": "stdout",
     "output_type": "stream",
     "text": [
      "{}\n"
     ]
    }
   ],
   "source": [
    "# Creating a dictionary\n",
    "\n",
    "countries_code = dict()\n",
    "print(countries_code)"
   ]
  },
  {
   "cell_type": "code",
   "execution_count": 39,
   "id": "d21e91c3",
   "metadata": {},
   "outputs": [
    {
     "data": {
      "text/plain": [
       "dict"
      ]
     },
     "execution_count": 39,
     "metadata": {},
     "output_type": "execute_result"
    }
   ],
   "source": [
    "type(countries_code)"
   ]
  },
  {
   "cell_type": "markdown",
   "id": "acdb03ed",
   "metadata": {},
   "source": [
    "Let's add items to the empty dictionary that we just created."
   ]
  },
  {
   "cell_type": "code",
   "execution_count": 40,
   "id": "791d1465",
   "metadata": {},
   "outputs": [],
   "source": [
    "# Adding items to the empty dictionary.\n",
    "\n",
    "countries_code[\"India\"] = 1"
   ]
  },
  {
   "cell_type": "code",
   "execution_count": 41,
   "id": "780a6490",
   "metadata": {},
   "outputs": [
    {
     "data": {
      "text/plain": [
       "{'India': 91, 'US': 1, 'Turkey': 90, 'Palestine': 970, 'UK': 44}"
      ]
     },
     "execution_count": 41,
     "metadata": {},
     "output_type": "execute_result"
    }
   ],
   "source": [
    "countries_code = { \n",
    "        \"India\":91, \n",
    "        \"US\": 1,\n",
    "        \"Turkey\":90,\n",
    "        \"Palestine\":970,\n",
    "        \"UK\":44\n",
    "}\n",
    "\n",
    "countries_code"
   ]
  },
  {
   "cell_type": "code",
   "execution_count": 42,
   "id": "fe33317d",
   "metadata": {},
   "outputs": [
    {
     "data": {
      "text/plain": [
       "{'India': 91, 'US': 1, 'Turkey': 90, 'Palestine': 970, 'UK': 44, 'Iraq': 964}"
      ]
     },
     "execution_count": 42,
     "metadata": {},
     "output_type": "execute_result"
    }
   ],
   "source": [
    "countries_code['Iraq'] = 964\n",
    "countries_code"
   ]
  },
  {
   "cell_type": "markdown",
   "id": "9b08ad68",
   "metadata": {},
   "source": [
    "__Accessing the values and keys in a dictionary__\\\n",
    "Just like how we get values in a list by using their indices, in dictionary, we can use a key to get its corresponding value."
   ]
  },
  {
   "cell_type": "code",
   "execution_count": 43,
   "id": "3ec12f26",
   "metadata": {},
   "outputs": [
    {
     "data": {
      "text/plain": [
       "1"
      ]
     },
     "execution_count": 43,
     "metadata": {},
     "output_type": "execute_result"
    }
   ],
   "source": [
    "countries_code['US']"
   ]
  },
  {
   "cell_type": "code",
   "execution_count": 44,
   "id": "cfb75d26",
   "metadata": {},
   "outputs": [
    {
     "data": {
      "text/plain": [
       "(True, False)"
      ]
     },
     "execution_count": 44,
     "metadata": {},
     "output_type": "execute_result"
    }
   ],
   "source": [
    "\"India\" in countries_code , \"Singapore\" in countries_code"
   ]
  },
  {
   "cell_type": "markdown",
   "id": "8ef29ee3",
   "metadata": {},
   "source": [
    "To get all the keys, value, and items of the dictionary, we can respectively use `keys()`, `values()`, and `items()` methods"
   ]
  },
  {
   "cell_type": "code",
   "execution_count": 45,
   "id": "ca102fb1",
   "metadata": {},
   "outputs": [
    {
     "name": "stdout",
     "output_type": "stream",
     "text": [
      "Keys: dict_keys(['India', 'US', 'Turkey', 'Palestine', 'UK', 'Iraq'])\n",
      " Values:dict_values([91, 1, 90, 970, 44, 964])\n",
      " Items:dict_items([('India', 91), ('US', 1), ('Turkey', 90), ('Palestine', 970), ('UK', 44), ('Iraq', 964)])\n"
     ]
    }
   ],
   "source": [
    "# Getting the keys and the values and items of the dictionary\n",
    "\n",
    "dict_keys = countries_code.keys()\n",
    "dict_values = countries_code.values()\n",
    "dict_items = countries_code.items()\n",
    "\n",
    "print(f\"Keys: {dict_keys}\\n Values:{dict_values}\\n Items:{dict_items}\")"
   ]
  },
  {
   "cell_type": "code",
   "execution_count": 46,
   "id": "bb926918",
   "metadata": {},
   "outputs": [
    {
     "data": {
      "text/plain": [
       "91"
      ]
     },
     "execution_count": 46,
     "metadata": {},
     "output_type": "execute_result"
    }
   ],
   "source": [
    "# Get the value of the Australia\n",
    "\n",
    "countries_code.get('India')  \n"
   ]
  },
  {
   "cell_type": "code",
   "execution_count": 47,
   "id": "f86a92ce",
   "metadata": {},
   "outputs": [
    {
     "data": {
      "text/plain": [
       "41"
      ]
     },
     "execution_count": 47,
     "metadata": {},
     "output_type": "execute_result"
    }
   ],
   "source": [
    "#In case a provided key is absent....\n",
    "countries_code.get('China', 41)"
   ]
  },
  {
   "cell_type": "code",
   "execution_count": 48,
   "id": "c6fc4d00",
   "metadata": {},
   "outputs": [
    {
     "data": {
      "text/plain": [
       "{'India': 91, 'US': 1, 'Turkey': 90, 'Palestine': 970, 'UK': 44, 'Iraq': 964}"
      ]
     },
     "execution_count": 48,
     "metadata": {},
     "output_type": "execute_result"
    }
   ],
   "source": [
    "countries_code"
   ]
  },
  {
   "cell_type": "markdown",
   "id": "175e1d54",
   "metadata": {},
   "source": [
    "__Traversing a dictionary__\\\n",
    "We previously used for loop in dictionary to iterate through the values. Let's review it again."
   ]
  },
  {
   "cell_type": "code",
   "execution_count": 49,
   "id": "9cc3d1f3",
   "metadata": {},
   "outputs": [
    {
     "data": {
      "text/plain": [
       "{'India': 91, 'US': 1, 'Turkey': 90, 'Palestine': 970, 'UK': 44, 'Iraq': 964}"
      ]
     },
     "execution_count": 49,
     "metadata": {},
     "output_type": "execute_result"
    }
   ],
   "source": [
    "countries_code"
   ]
  },
  {
   "cell_type": "code",
   "execution_count": 50,
   "id": "a37d823a",
   "metadata": {},
   "outputs": [
    {
     "name": "stdout",
     "output_type": "stream",
     "text": [
      "India\n",
      "US\n",
      "Turkey\n",
      "Palestine\n",
      "UK\n",
      "Iraq\n"
     ]
    }
   ],
   "source": [
    "for country in countries_code:\n",
    "    print(country)"
   ]
  },
  {
   "cell_type": "code",
   "execution_count": 51,
   "id": "e9ddafd6",
   "metadata": {},
   "outputs": [
    {
     "name": "stdout",
     "output_type": "stream",
     "text": [
      "India 91\n",
      "US 1\n",
      "Turkey 90\n",
      "Palestine 970\n",
      "UK 44\n",
      "Iraq 964\n"
     ]
    }
   ],
   "source": [
    "for country, code in countries_code.items():\n",
    "    print(country, code)"
   ]
  },
  {
   "cell_type": "markdown",
   "id": "4c7e62e1",
   "metadata": {},
   "source": [
    "__The setdefault() Method__\\\n",
    "The `setdefault()` method allows you to set a value of a given key that does not already have a key. This can be helpful when you want to update the dictionary with a new value in case the key you are looking for does not exist."
   ]
  },
  {
   "cell_type": "code",
   "execution_count": 60,
   "id": "1b62db37",
   "metadata": {},
   "outputs": [
    {
     "data": {
      "text/plain": [
       "81"
      ]
     },
     "execution_count": 60,
     "metadata": {},
     "output_type": "execute_result"
    }
   ],
   "source": [
    "countries_code.setdefault(\"Japan\", 81)"
   ]
  },
  {
   "cell_type": "code",
   "execution_count": 61,
   "id": "9e06d08e",
   "metadata": {},
   "outputs": [
    {
     "data": {
      "text/plain": [
       "{'India': 91,\n",
       " 'US': 1,\n",
       " 'Turkey': 90,\n",
       " 'Palestine': 970,\n",
       " 'UK': 44,\n",
       " 'Iraq': 964,\n",
       " 'Japan': 81}"
      ]
     },
     "execution_count": 61,
     "metadata": {},
     "output_type": "execute_result"
    }
   ],
   "source": [
    "countries_code"
   ]
  },
  {
   "cell_type": "markdown",
   "id": "942fdf98",
   "metadata": {},
   "source": [
    "__*Summarizing dictionary*__\n",
    "\n",
    "* Dictionaries are not ordered and they can not be sorted - list are ordered (and unordered) and can be sorted.\n",
    "* Dictionary can store data of different types: floats, integers and strings and can also store lists."
   ]
  },
  {
   "cell_type": "markdown",
   "id": "5c471d50",
   "metadata": {},
   "source": [
    "__Tuples__\\\n",
    "Tuple is similar to list but the difference is that you can't change the values once it is defined (termed as `immutability`). Due to this property it can be used to keep things that you do not want to change in your program. Example can be a country codes, zipcodes, etc..."
   ]
  },
  {
   "cell_type": "code",
   "execution_count": 62,
   "id": "94c73dfd",
   "metadata": {},
   "outputs": [],
   "source": [
    "tup = (1,4,5,6,7,8)"
   ]
  },
  {
   "cell_type": "code",
   "execution_count": 63,
   "id": "a3768e59",
   "metadata": {},
   "outputs": [
    {
     "data": {
      "text/plain": [
       "7"
      ]
     },
     "execution_count": 63,
     "metadata": {},
     "output_type": "execute_result"
    }
   ],
   "source": [
    "# Indexing\n",
    "\n",
    "tup[4]"
   ]
  },
  {
   "cell_type": "code",
   "execution_count": 64,
   "id": "464b8627",
   "metadata": {},
   "outputs": [
    {
     "ename": "TypeError",
     "evalue": "'tuple' object does not support item assignment",
     "output_type": "error",
     "traceback": [
      "\u001b[31m---------------------------------------------------------------------------\u001b[39m",
      "\u001b[31mTypeError\u001b[39m                                 Traceback (most recent call last)",
      "\u001b[36mCell\u001b[39m\u001b[36m \u001b[39m\u001b[32mIn[64]\u001b[39m\u001b[32m, line 3\u001b[39m\n\u001b[32m      1\u001b[39m \u001b[38;5;66;03m## Tuples are not changeable. Running below code will cause an error\u001b[39;00m\n\u001b[32m----> \u001b[39m\u001b[32m3\u001b[39m \u001b[43mtup\u001b[49m\u001b[43m[\u001b[49m\u001b[32;43m2\u001b[39;49m\u001b[43m]\u001b[49m = \u001b[32m10\u001b[39m\n",
      "\u001b[31mTypeError\u001b[39m: 'tuple' object does not support item assignment"
     ]
    }
   ],
   "source": [
    "## Tuples are not changeable. Running below code will cause an error\n",
    "\n",
    "tup[2] = 10"
   ]
  },
  {
   "cell_type": "code",
   "execution_count": 65,
   "id": "4dbe4a5e",
   "metadata": {},
   "outputs": [
    {
     "ename": "AttributeError",
     "evalue": "'tuple' object has no attribute 'append'",
     "output_type": "error",
     "traceback": [
      "\u001b[31m---------------------------------------------------------------------------\u001b[39m",
      "\u001b[31mAttributeError\u001b[39m                            Traceback (most recent call last)",
      "\u001b[36mCell\u001b[39m\u001b[36m \u001b[39m\u001b[32mIn[65]\u001b[39m\u001b[32m, line 2\u001b[39m\n\u001b[32m      1\u001b[39m \u001b[38;5;66;03m# You can not also add other values to the tuple. This will be error\u001b[39;00m\n\u001b[32m----> \u001b[39m\u001b[32m2\u001b[39m \u001b[43mtup\u001b[49m\u001b[43m.\u001b[49m\u001b[43mappend\u001b[49m(\u001b[32m12\u001b[39m)\n",
      "\u001b[31mAttributeError\u001b[39m: 'tuple' object has no attribute 'append'"
     ]
    }
   ],
   "source": [
    "# You can not also add other values to the tuple. This will be error\n",
    "tup.append(12)"
   ]
  },
  {
   "cell_type": "markdown",
   "id": "1fc54199",
   "metadata": {},
   "source": [
    "__Sets__\\\n",
    "Sets are used to store the unique elements. They are not ordered like list."
   ]
  },
  {
   "cell_type": "code",
   "execution_count": 66,
   "id": "4851dde7",
   "metadata": {},
   "outputs": [
    {
     "data": {
      "text/plain": [
       "{1, 2, 3, 4, 5, 6, 7, 8}"
      ]
     },
     "execution_count": 66,
     "metadata": {},
     "output_type": "execute_result"
    }
   ],
   "source": [
    "set_1 = {1,2,3,4,5,6,7,8}\n",
    "\n",
    "set_1"
   ]
  },
  {
   "cell_type": "code",
   "execution_count": 67,
   "id": "d72a0c4a",
   "metadata": {},
   "outputs": [
    {
     "data": {
      "text/plain": [
       "{1, 2, 3, 4, 5, 7, 8}"
      ]
     },
     "execution_count": 67,
     "metadata": {},
     "output_type": "execute_result"
    }
   ],
   "source": [
    "set_2 = {1,1,2,3,5,3,2,2,4,5,7,8,8,5}\n",
    "set_2"
   ]
  },
  {
   "cell_type": "markdown",
   "id": "2796262c",
   "metadata": {},
   "source": [
    "As you can see, set only keep unique values. There can't be a repetition of values."
   ]
  },
  {
   "cell_type": "code",
   "execution_count": 68,
   "id": "53d7622e",
   "metadata": {},
   "outputs": [
    {
     "name": "stdout",
     "output_type": "stream",
     "text": [
      "List:[1, 1, 3, 7, 9, 3, 5, 7, 9, 9]\n",
      "********\n",
      "Set:{1, 3, 5, 7, 9}\n"
     ]
    }
   ],
   "source": [
    "# List Vs Set\n",
    "\n",
    "odd_numbers = [1,1,3,7,9,3,5,7,9,9]\n",
    "\n",
    "print(\"List:{}\".format(odd_numbers))\n",
    "\n",
    "print(\"********\")\n",
    "\n",
    "set_odd_numbers = {1,1,3,7,9,3,5,7,9,9}\n",
    "\n",
    "print(\"Set:{}\".format(set_odd_numbers))"
   ]
  }
 ],
 "metadata": {
  "kernelspec": {
   "display_name": "PyFundas",
   "language": "python",
   "name": "python3"
  },
  "language_info": {
   "codemirror_mode": {
    "name": "ipython",
    "version": 3
   },
   "file_extension": ".py",
   "mimetype": "text/x-python",
   "name": "python",
   "nbconvert_exporter": "python",
   "pygments_lexer": "ipython3",
   "version": "3.12.1"
  }
 },
 "nbformat": 4,
 "nbformat_minor": 5
}
