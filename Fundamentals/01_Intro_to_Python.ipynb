{
 "cells": [
  {
   "cell_type": "markdown",
   "id": "9970c049",
   "metadata": {},
   "source": [
    "## Basic of Python Programming\n",
    "This is a practical introduction to Python Programming Language. Python is an interpreted, high-level, and general purpose programming language that was designed for efficiency, readability, and simplicity.\n",
    "\n",
    "Python design philosophy emphasizes simplicity and code readability. There are about 19 Python design guiding principles, the top 8 being:\n",
    "\n",
    "Beautiful is better than ugly.\\\n",
    "Explicit is better than implicit\\\n",
    "Simple is better than complex\\\n",
    "Complex is better than complicated\\\n",
    "Readability counts\\\n",
    "Now is better than ever\\\n",
    "If the implementation is hard to explain, it's a bad idea.\\\n",
    "If the implementation is easy to explain, it may be a good idea.\\\n",
    "\n",
    "## Variables\n",
    "Below are quick notes about Python variables and other most important things to know before writing actual Python code:\n",
    "\n",
    "* `A Variable` is a location in memory where we store the data.\\\n",
    "* `A variable` in Python can either be of 3 data types: `integer`, `float`, or a `string`. Data type specifies the category of the variables.\\\n",
    "* We can use `type(variable_name)` to find the type of given `variable_name`.\\\n",
    "* In Python, we use `#` to add `comments`. Comments do not change anything and are not compiled.\\\n",
    "* If your comment is longer than one line, you can use triple quotes. The lines inside triple quotes are ignore during runtime.\\\n",
    "\"\"\"\\\n",
    "In Python, there is no official way to write long comments, but you can use triple quotes.\\\n",
    "The sentence between triple quote are ignored at runtime. You can also use single quote('''....''').\n",
    "Python treats single quote as double quotes in many scanerios such as strings representation.\n",
    "\n",
    "\"\"\"\\\n",
    "We also use `=` to assign a value to the name of variable. Example: `var_name = 1`. Note that it's different to comparison operator of equal to `(==)`.\\\n",
    "We can use `print()` to display the value of variable or the results of any expression.\\\n",
    "Each line of the code start on the new line.\\\n",
    "Be aware of indentations. Python is serious about them."
   ]
  },
  {
   "cell_type": "code",
   "execution_count": 1,
   "id": "bfd7b558",
   "metadata": {},
   "outputs": [],
   "source": [
    "int_var = 1\n",
    "str_var = 'Hundred'"
   ]
  },
  {
   "cell_type": "markdown",
   "id": "0e4bf5cd",
   "metadata": {},
   "source": [
    "## Numbers\n",
    "Numbers in Python can either be integers `int` or floats `float`. Integer are real, finite, natural or whole numbers. Take an example: `1,2,3,4` are integers. Floats are numbers that have decimal points such as `4.6, 6.0, 7.7`. Note that `4.0` is considered as a float data type too. \n",
    "\n",
    "We can perform operations on numbers. The operations that we can perform include addition, multiplication, division, modular, etc..."
   ]
  },
  {
   "cell_type": "code",
   "execution_count": 2,
   "id": "0c54172a",
   "metadata": {},
   "outputs": [
    {
     "data": {
      "text/plain": [
       "int"
      ]
     },
     "execution_count": 2,
     "metadata": {},
     "output_type": "execute_result"
    }
   ],
   "source": [
    "int_var = 10\n",
    "float_var = 12.8\n",
    "\n",
    "type(int_var)"
   ]
  },
  {
   "cell_type": "code",
   "execution_count": 3,
   "id": "c0f58d57",
   "metadata": {},
   "outputs": [
    {
     "data": {
      "text/plain": [
       "float"
      ]
     },
     "execution_count": 3,
     "metadata": {},
     "output_type": "execute_result"
    }
   ],
   "source": [
    "type(float_var)"
   ]
  },
  {
   "cell_type": "code",
   "execution_count": 6,
   "id": "55b435f4",
   "metadata": {},
   "outputs": [
    {
     "data": {
      "text/plain": [
       "(101, 100, 0.01, 3, 1, 0, 0, 1, 16)"
      ]
     },
     "execution_count": 6,
     "metadata": {},
     "output_type": "execute_result"
    }
   ],
   "source": [
    "1+100, 1*100, 1/100, 7//2, 1%100, 100%1, 100%2, 1**100, 2**4"
   ]
  },
  {
   "cell_type": "markdown",
   "id": "4eefbcba",
   "metadata": {},
   "source": [
    "## Strings\n",
    "Python supports strings. String is a sequence of characters.\n",
    "\n",
    "Strings are one of the commonly used and important data types. Most problems involve working with strings. Thus, knowing how to work with strings is an incredible thing.\n",
    "\n",
    "Strings are expressed in either `\"...\"` or `'...'`.\n",
    "\n",
    "\"text inside here will be a string\"\n",
    "'text inside here will also be a string'\n",
    "We can manipulate strings in many ways."
   ]
  },
  {
   "cell_type": "code",
   "execution_count": 9,
   "id": "b487ded5",
   "metadata": {},
   "outputs": [
    {
     "name": "stdout",
     "output_type": "stream",
     "text": [
      "OneHundred\n"
     ]
    },
    {
     "data": {
      "text/plain": [
       "'One and Hundred.'"
      ]
     },
     "execution_count": 9,
     "metadata": {},
     "output_type": "execute_result"
    }
   ],
   "source": [
    "str_var = 'One'\n",
    "str_var2 = 'Hundred'\n",
    "print(str_var + str_var2)\n",
    "str_var + ' ' + 'and' + ' '+ str_var2 + '.'"
   ]
  },
  {
   "cell_type": "code",
   "execution_count": 10,
   "id": "f5e22f44",
   "metadata": {},
   "outputs": [
    {
     "data": {
      "text/plain": [
       "False"
      ]
     },
     "execution_count": 10,
     "metadata": {},
     "output_type": "execute_result"
    }
   ],
   "source": [
    "\"A string\" == \"a string\""
   ]
  },
  {
   "cell_type": "code",
   "execution_count": 11,
   "id": "c40dfe83",
   "metadata": {},
   "outputs": [
    {
     "data": {
      "text/plain": [
       "True"
      ]
     },
     "execution_count": 11,
     "metadata": {},
     "output_type": "execute_result"
    }
   ],
   "source": [
    "\"A string\" == \"A string\""
   ]
  },
  {
   "cell_type": "markdown",
   "id": "1cbc8245",
   "metadata": {},
   "source": [
    "## Strings Methods\n",
    "Python provides many built-in methods for manipulating strings. As a programmer, knowing typical string methods and how to use them will give you a real leverage when working with strings."
   ]
  },
  {
   "cell_type": "code",
   "execution_count": 12,
   "id": "df9f723a",
   "metadata": {},
   "outputs": [
    {
     "data": {
      "text/plain": [
       "('This is a string',\n",
       " 'This Is A String',\n",
       " 'THIS IS A STRING',\n",
       " 'this is a string',\n",
       " ['This', 'IS', 'A', 'String'])"
      ]
     },
     "execution_count": 12,
     "metadata": {},
     "output_type": "execute_result"
    }
   ],
   "source": [
    "sentence = 'This IS A String'\n",
    "# Case capitalization \n",
    "# It return the string with first letter capitalized and the rest being lower cases. \n",
    "# Given a string, convert it into title (each word is capitalized)\n",
    "\n",
    "sentence.capitalize() , sentence.title(), sentence.upper(), sentence.lower(), sentence.split()"
   ]
  },
  {
   "cell_type": "markdown",
   "id": "2ef5d583",
   "metadata": {},
   "source": [
    "Lastly, we can use `replace()` method to replace some characters in string with another characters. Replace method takes two inputs: characters to be replaced, and new characters to be inserted in string, `replace('characters to be replaced', 'new characters')`."
   ]
  },
  {
   "cell_type": "code",
   "execution_count": 15,
   "id": "d71fdeba",
   "metadata": {},
   "outputs": [
    {
     "data": {
      "text/plain": [
       "'This project was awesome'"
      ]
     },
     "execution_count": 15,
     "metadata": {},
     "output_type": "execute_result"
    }
   ],
   "source": [
    "stri = \"This session was awesome\"\n",
    "stri.replace('session', 'project')"
   ]
  }
 ],
 "metadata": {
  "kernelspec": {
   "display_name": "PyFundas",
   "language": "python",
   "name": "python3"
  },
  "language_info": {
   "codemirror_mode": {
    "name": "ipython",
    "version": 3
   },
   "file_extension": ".py",
   "mimetype": "text/x-python",
   "name": "python",
   "nbconvert_exporter": "python",
   "pygments_lexer": "ipython3",
   "version": "3.12.1"
  }
 },
 "nbformat": 4,
 "nbformat_minor": 5
}
