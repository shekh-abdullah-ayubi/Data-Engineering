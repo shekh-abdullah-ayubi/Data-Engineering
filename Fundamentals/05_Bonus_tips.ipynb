{
 "cells": [
  {
   "cell_type": "markdown",
   "id": "0c47b689",
   "metadata": {},
   "source": [
    "__List Comprehension__\\\n",
    "List comprehension makes it easy to make a new list from an existing list based on a given conditions. It's very concise and readable.\n",
    "\n",
    "Take an example for the following cases."
   ]
  },
  {
   "cell_type": "code",
   "execution_count": 1,
   "id": "e1852432",
   "metadata": {},
   "outputs": [
    {
     "name": "stdout",
     "output_type": "stream",
     "text": [
      "[2, 4, 6, 8, 10, 12, 14, 16, 18]\n"
     ]
    }
   ],
   "source": [
    "# Given a list of numbers, can you make a new list of even numbers from the list nums?\n",
    "# Even numbers are numbers divisible by 2, and they give the remainder of 0\n",
    "\n",
    "nums = range(1,20)\n",
    "even_nums = []\n",
    "\n",
    "\n",
    "# A traditional way to do it is:\n",
    "\n",
    "for num in nums: \n",
    "  if num % 2 == 0: \n",
    "    even_nums.append(num)\n",
    "\n",
    "print(even_nums)"
   ]
  },
  {
   "cell_type": "markdown",
   "id": "9ce04387",
   "metadata": {},
   "source": [
    "A more concise and easy way to do that is to use list comprehension."
   ]
  },
  {
   "cell_type": "code",
   "execution_count": 2,
   "id": "b87b4a92",
   "metadata": {},
   "outputs": [
    {
     "name": "stdout",
     "output_type": "stream",
     "text": [
      "[2, 4, 6, 8, 10, 12, 14, 16, 18]\n"
     ]
    }
   ],
   "source": [
    "even_nums = [num for num in nums if num % 2 == 0]\n",
    "print(even_nums)"
   ]
  },
  {
   "cell_type": "markdown",
   "id": "46d245a8",
   "metadata": {},
   "source": [
    "You can see it's pretty simple. And more readable than the former. Let's take another example."
   ]
  },
  {
   "cell_type": "code",
   "execution_count": 3,
   "id": "6183a15b",
   "metadata": {},
   "outputs": [
    {
     "name": "stdout",
     "output_type": "stream",
     "text": [
      "['Tuesday', 'Thursday']\n"
     ]
    }
   ],
   "source": [
    "days = ['Monday', 'Tuesday', 'Wednesday', 'Thursday', 'Friday', 'Saturday']\n",
    "day_T = []\n",
    "\n",
    "# Make a list of days that start with `T`\n",
    "\n",
    "for day in days: \n",
    "  if day[0] == 'T':\n",
    "    day_T.append(day)\n",
    "\n",
    "print(day_T)"
   ]
  },
  {
   "cell_type": "code",
   "execution_count": 4,
   "id": "9eaefd0c",
   "metadata": {},
   "outputs": [
    {
     "name": "stdout",
     "output_type": "stream",
     "text": [
      "['Tuesday', 'Thursday']\n"
     ]
    }
   ],
   "source": [
    "day_T = [day for day in days if day[0] == 'T']\n",
    "print(day_T)"
   ]
  },
  {
   "cell_type": "markdown",
   "id": "3c91d34e",
   "metadata": {},
   "source": [
    "__Enumerate Function__\\\n",
    "Enumerate function convert iterable objects into enumerate object. It basically returns a tuple that also contain a counter.\n",
    "\n",
    "That's sounds hard, but with examples, you can see how powerful this function is..."
   ]
  },
  {
   "cell_type": "code",
   "execution_count": 5,
   "id": "9b44f1dd",
   "metadata": {},
   "outputs": [
    {
     "data": {
      "text/plain": [
       "[(0, 'Spring'), (1, 'Summer'), (2, 'Fall'), (3, 'Winter')]"
      ]
     },
     "execution_count": 5,
     "metadata": {},
     "output_type": "execute_result"
    }
   ],
   "source": [
    "seasons = ['Spring', 'Summer', 'Fall', 'Winter']\n",
    "\n",
    "list(enumerate(seasons))"
   ]
  },
  {
   "cell_type": "markdown",
   "id": "a61ae2df",
   "metadata": {},
   "source": [
    "As you can see, each element came with index counter automatically. The counter initially start at 0, but we can change it."
   ]
  },
  {
   "cell_type": "code",
   "execution_count": 6,
   "id": "6630ce11",
   "metadata": {},
   "outputs": [
    {
     "data": {
      "text/plain": [
       "[(1, 'Spring'), (2, 'Summer'), (3, 'Fall'), (4, 'Winter')]"
      ]
     },
     "execution_count": 6,
     "metadata": {},
     "output_type": "execute_result"
    }
   ],
   "source": [
    "list(enumerate(seasons, start=1))"
   ]
  },
  {
   "cell_type": "code",
   "execution_count": 7,
   "id": "c185ded9",
   "metadata": {},
   "outputs": [
    {
     "name": "stdout",
     "output_type": "stream",
     "text": [
      "0 - Rock\n",
      "1 - Paper\n",
      "2 - Scissor\n"
     ]
    }
   ],
   "source": [
    "class_names = ['Rock', 'Paper', 'Scissor']\n",
    "\n",
    "for index, class_name in enumerate(class_names, start=0):\n",
    "  print(index,'-',class_name)"
   ]
  },
  {
   "cell_type": "markdown",
   "id": "aaa0cedc",
   "metadata": {},
   "source": [
    "__Zip Function__\\\n",
    "Zip is an incredible function that takes two iterators and returns a pair of corresponsing elements as a tuple."
   ]
  },
  {
   "cell_type": "code",
   "execution_count": 8,
   "id": "2d4ed096",
   "metadata": {},
   "outputs": [
    {
     "data": {
      "text/plain": [
       "<zip at 0x7a2aa86db180>"
      ]
     },
     "execution_count": 8,
     "metadata": {},
     "output_type": "execute_result"
    }
   ],
   "source": [
    "skill = ['Python', 'HTML-JS', 'SQL-ETL-Python']\n",
    "role = ['ML Engineer', 'Web Developer', 'Data Engineer']\n",
    "\n",
    "zipped_name_role = zip(skill, role)\n",
    "zipped_name_role"
   ]
  },
  {
   "cell_type": "code",
   "execution_count": 10,
   "id": "b54f10e7",
   "metadata": {},
   "outputs": [
    {
     "data": {
      "text/plain": [
       "[('Python', 'ML Engineer'),\n",
       " ('HTML-JS', 'Web Developer'),\n",
       " ('SQL-ETL-Python', 'Data Engineer')]"
      ]
     },
     "execution_count": 10,
     "metadata": {},
     "output_type": "execute_result"
    }
   ],
   "source": [
    "list(zipped_name_role)"
   ]
  }
 ],
 "metadata": {
  "kernelspec": {
   "display_name": "PyFundas",
   "language": "python",
   "name": "python3"
  },
  "language_info": {
   "codemirror_mode": {
    "name": "ipython",
    "version": 3
   },
   "file_extension": ".py",
   "mimetype": "text/x-python",
   "name": "python",
   "nbconvert_exporter": "python",
   "pygments_lexer": "ipython3",
   "version": "3.12.1"
  }
 },
 "nbformat": 4,
 "nbformat_minor": 5
}
