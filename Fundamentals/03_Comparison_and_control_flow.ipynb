{
 "cells": [
  {
   "cell_type": "markdown",
   "id": "6f7bc331",
   "metadata": {},
   "source": [
    "__Comparison and Logic operators__\\\n",
    "Comparison operators are used to compare values. It will either return true or false"
   ]
  },
  {
   "cell_type": "code",
   "execution_count": 2,
   "id": "50e3aac6",
   "metadata": {},
   "outputs": [
    {
     "data": {
      "text/plain": [
       "(True, False, False, True, False, False, True)"
      ]
     },
     "execution_count": 2,
     "metadata": {},
     "output_type": "execute_result"
    }
   ],
   "source": [
    "## Greater than \n",
    "100 > 1, 100 == 1, 100 < 1, 100 >= 1, 100 <= 1, 'Welcome to Python' == 'Welcome to python', 'Welcome to Python' == 'Welcome to Python'"
   ]
  },
  {
   "cell_type": "markdown",
   "id": "5a165910",
   "metadata": {},
   "source": [
    "`Logic` operators are used to compare two expressions made by comparison operators.\n",
    "\n",
    "* Logic `and` returns true only when both expressions are true, otherwise false.\n",
    "\n",
    "* Logic `or` returns true when either any of both expressions is true. Only false if both expressions are false.\n",
    "\n",
    "* Logic `not` as you can guess, it will return false when given expression is true, vice versa."
   ]
  },
  {
   "cell_type": "code",
   "execution_count": 3,
   "id": "334ba2e8",
   "metadata": {},
   "outputs": [
    {
     "data": {
      "text/plain": [
       "True"
      ]
     },
     "execution_count": 3,
     "metadata": {},
     "output_type": "execute_result"
    }
   ],
   "source": [
    "100 == 100 and 100 == 100"
   ]
  },
  {
   "cell_type": "code",
   "execution_count": 4,
   "id": "41af05d5",
   "metadata": {},
   "outputs": [
    {
     "data": {
      "text/plain": [
       "False"
      ]
     },
     "execution_count": 4,
     "metadata": {},
     "output_type": "execute_result"
    }
   ],
   "source": [
    "100 == 10 or 100 == 10"
   ]
  },
  {
   "cell_type": "code",
   "execution_count": 5,
   "id": "95a1e294",
   "metadata": {},
   "outputs": [
    {
     "data": {
      "text/plain": [
       "True"
      ]
     },
     "execution_count": 5,
     "metadata": {},
     "output_type": "execute_result"
    }
   ],
   "source": [
    "not 1 == 2"
   ]
  },
  {
   "cell_type": "markdown",
   "id": "8afb4cdc",
   "metadata": {},
   "source": [
    "__Control Flow__\\\n",
    "As an engineer, you will need to make decisions depending on the particular situation. You will also need to control the flow of the program and this is where `Control Flow` comes in.\n",
    "\n",
    "We will cover:\n",
    "\n",
    "* If statement\n",
    "* For loop\n",
    "* While loop"
   ]
  },
  {
   "cell_type": "code",
   "execution_count": 9,
   "id": "0ceb6667",
   "metadata": {},
   "outputs": [
    {
     "name": "stdout",
     "output_type": "stream",
     "text": [
      "Surya's age is same as Reddy\n"
     ]
    }
   ],
   "source": [
    "# Let's use multiple conditions \n",
    "\n",
    "surya_age = 30\n",
    "ranga_age = 20\n",
    "reddy_age = 30\n",
    "\n",
    "if surya_age < ranga_age:\n",
    "  print(\"Surya is older than Ranga\")\n",
    "\n",
    "elif reddy_age == ranga_age:\n",
    "  print(\"Reddy's Age is same as Ranga\")\n",
    "\n",
    "elif ranga_age > surya_age:\n",
    "  print(\"Ranga is older than Surya\")\n",
    "\n",
    "else:\n",
    "  print(\"Surya's age is same as Reddy\")"
   ]
  },
  {
   "cell_type": "markdown",
   "id": "8380dc53",
   "metadata": {},
   "source": [
    "We can also put if condition into one line of code. This can be useful when you want to make a quick decision between few choices.\n",
    "\n",
    "Here is the structure:\n",
    "\n",
    "`'value_to_return_if_true' if condition else 'value_to_return_if_false'`"
   ]
  },
  {
   "cell_type": "code",
   "execution_count": 10,
   "id": "56f6d24c",
   "metadata": {},
   "outputs": [
    {
     "data": {
      "text/plain": [
       "'Odd'"
      ]
     },
     "execution_count": 10,
     "metadata": {},
     "output_type": "execute_result"
    }
   ],
   "source": [
    "# Example 1: Return 'Even' if below num is 'Even' and `Odd` if not. \n",
    "\n",
    "num = 45\n",
    "\n",
    "'Even' if num % 2 == 0 else 'Odd'"
   ]
  },
  {
   "cell_type": "code",
   "execution_count": 11,
   "id": "6fe365e6",
   "metadata": {},
   "outputs": [
    {
     "data": {
      "text/plain": [
       "True"
      ]
     },
     "execution_count": 11,
     "metadata": {},
     "output_type": "execute_result"
    }
   ],
   "source": [
    "# Example 2: Return True if a given element is in a list and False if not\n",
    "\n",
    "nums = [1,2,3,4,5,6]\n",
    "\n",
    "True if 3 in nums else False"
   ]
  },
  {
   "cell_type": "markdown",
   "id": "6d5248ce",
   "metadata": {},
   "source": [
    "__For Loop__\\\n",
    "For loop is used to iterate over list, string, tuples, or dictionary.\n",
    "\n",
    "Structure of for loop:\n",
    "\n",
    "    for item in items:\n",
    "    do something"
   ]
  },
  {
   "cell_type": "code",
   "execution_count": 6,
   "id": "ba08dae3",
   "metadata": {},
   "outputs": [
    {
     "name": "stdout",
     "output_type": "stream",
     "text": [
      "0\n",
      "1\n",
      "2\n",
      "3\n",
      "4\n",
      "5\n",
      "6\n",
      "7\n",
      "8\n",
      "9\n"
     ]
    }
   ],
   "source": [
    "for number in range(10):\n",
    "  print(number)"
   ]
  },
  {
   "cell_type": "code",
   "execution_count": 7,
   "id": "987081f0",
   "metadata": {},
   "outputs": [
    {
     "name": "stdout",
     "output_type": "stream",
     "text": [
      "10\n",
      "11\n",
      "12\n",
      "13\n",
      "14\n",
      "15\n",
      "16\n",
      "17\n",
      "18\n",
      "19\n"
     ]
    }
   ],
   "source": [
    "for number in range(10, 20):\n",
    "  print(number)"
   ]
  },
  {
   "cell_type": "code",
   "execution_count": 8,
   "id": "a2d4c5e8",
   "metadata": {},
   "outputs": [
    {
     "data": {
      "text/plain": [
       "['M', 'a', 'c', 'h', 'i', 'n', 'e', 'L', 'e', 'a', 'r', 'n', 'i', 'n', 'g']"
      ]
     },
     "execution_count": 8,
     "metadata": {},
     "output_type": "execute_result"
    }
   ],
   "source": [
    "letters = [letter for letter in 'MachineLearning']\n",
    "\n",
    "letters"
   ]
  },
  {
   "cell_type": "markdown",
   "id": "27ff4737",
   "metadata": {},
   "source": [
    "__While loop__\\\n",
    "While loop will executes the statement(s) as long as the condition is true.\n",
    "\n",
    "Structure of while loop\n",
    "\n",
    "    while condition:\n",
    "    statement(s)"
   ]
  },
  {
   "cell_type": "code",
   "execution_count": 12,
   "id": "7cbd8058",
   "metadata": {},
   "outputs": [
    {
     "name": "stdout",
     "output_type": "stream",
     "text": [
      "a is: 10\n",
      "a is: 11\n",
      "a is: 12\n",
      "a is: 13\n",
      "a is: 14\n",
      "a is: 15\n",
      "a is: 16\n",
      "a is: 17\n",
      "a is: 18\n",
      "a is: 19\n"
     ]
    }
   ],
   "source": [
    "a = 10\n",
    "while a < 20:\n",
    "    print('a is: {}'.format(a))\n",
    "    a = a + 1"
   ]
  },
  {
   "cell_type": "markdown",
   "id": "8e233caa",
   "metadata": {},
   "source": [
    "__Functions__\\\n",
    "Functions are used to write codes or statements that can be used multiple times with different parameters.\n",
    "\n",
    "One fundamental rule in programming is \"DRY\" or Do not Repeat Yourself. Functions will help to not repeat yourself.\n",
    "\n",
    "This is how you define a function in Python:\n",
    "\n",
    "    def function_name(parameters):\n",
    "\n",
    "    \"\"\"\n",
    "    This is Doc String\n",
    "    You can use it to notes about the functions\n",
    "    \"\"\"\n",
    "    statements \n",
    "\n",
    "    return results\n",
    "* `function_name` is the name of the function. It must not be similar to any built in functions. We will see built in functions later.\n",
    "* `parameters` are the values that are passed to the function.\n",
    "* `Doc String` is used to add notes about the function. It is not a must to use it but it is a `good practice`.\n",
    "* `return` specify something or value that you want to return everytime you call or run your function.\n",
    "\n"
   ]
  },
  {
   "cell_type": "code",
   "execution_count": 13,
   "id": "66da9e62",
   "metadata": {},
   "outputs": [],
   "source": [
    "# Function to add two numbers and return a sum\n",
    "\n",
    "def add_nums(a,b):\n",
    "  \"\"\"\n",
    "  Function to add two numbers given as inputs\n",
    "  It will return a sum of these two numbers\n",
    "  \"\"\"\n",
    "  sum = a+b\n",
    "  \n",
    "  return sum"
   ]
  },
  {
   "cell_type": "code",
   "execution_count": 14,
   "id": "c20ea2f4",
   "metadata": {},
   "outputs": [
    {
     "data": {
      "text/plain": [
       "6"
      ]
     },
     "execution_count": 14,
     "metadata": {},
     "output_type": "execute_result"
    }
   ],
   "source": [
    "add_nums(2,4)"
   ]
  },
  {
   "cell_type": "code",
   "execution_count": 15,
   "id": "7ab8a38b",
   "metadata": {},
   "outputs": [
    {
     "name": "stdout",
     "output_type": "stream",
     "text": [
      "\n",
      "  Function to add two numbers given as inputs\n",
      "  It will return a sum of these two numbers\n",
      "  \n"
     ]
    }
   ],
   "source": [
    "# Displaying the doc string noted early\n",
    "\n",
    "print(add_nums.__doc__)"
   ]
  },
  {
   "cell_type": "code",
   "execution_count": 18,
   "id": "c2577ae4",
   "metadata": {},
   "outputs": [],
   "source": [
    "def activity(name_1, name_2):\n",
    "\n",
    "  print(\"{} and {} are playing Cricket!\".format(name_1, name_2))"
   ]
  },
  {
   "cell_type": "code",
   "execution_count": 19,
   "id": "1cd44976",
   "metadata": {},
   "outputs": [
    {
     "name": "stdout",
     "output_type": "stream",
     "text": [
      "Abdullah and Aman are playing Cricket!\n"
     ]
    }
   ],
   "source": [
    "activity(\"Abdullah\", \"Aman\")"
   ]
  },
  {
   "cell_type": "markdown",
   "id": "760aee76",
   "metadata": {},
   "source": [
    "As you can see, functions do not need to always have `return`. When you only want to display the customized message (not involving expression), `print()` will be enough."
   ]
  }
 ],
 "metadata": {
  "kernelspec": {
   "display_name": "PyFundas",
   "language": "python",
   "name": "python3"
  },
  "language_info": {
   "codemirror_mode": {
    "name": "ipython",
    "version": 3
   },
   "file_extension": ".py",
   "mimetype": "text/x-python",
   "name": "python",
   "nbconvert_exporter": "python",
   "pygments_lexer": "ipython3",
   "version": "3.12.1"
  }
 },
 "nbformat": 4,
 "nbformat_minor": 5
}
